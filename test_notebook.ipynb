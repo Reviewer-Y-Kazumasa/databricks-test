{
 "cells": [
  {
   "cell_type": "code",
   "execution_count": 0,
   "metadata": {
    "application/vnd.databricks.v1+cell": {
     "cellMetadata": {},
     "inputWidgets": {},
     "nuid": "0871f06c-52e4-4f57-accd-16872c182a4a",
     "showTitle": true,
     "tableResultSettingsMap": {},
     "title": "Notebook追加テスト"
    }
   },
   "outputs": [],
   "source": [
    "%sql\n",
    "SELECT timestamp();"
   ]
  },
  {
   "cell_type": "code",
   "execution_count": 0,
   "metadata": {
    "application/vnd.databricks.v1+cell": {
     "cellMetadata": {},
     "inputWidgets": {},
     "nuid": "de41c367-410f-41d7-bd86-1d01293eb206",
     "showTitle": true,
     "tableResultSettingsMap": {},
     "title": "Notebook修正テスト"
    }
   },
   "outputs": [],
   "source": [
    "%sql\n",
    "SELECT count(*) FROM aibi_demo_catalog.bricksmart.gold_user;"
   ]
  }
 ],
 "metadata": {
  "application/vnd.databricks.v1+notebook": {
   "computePreferences": null,
   "dashboards": [],
   "environmentMetadata": {
    "base_environment": "",
    "environment_version": "2"
   },
   "inputWidgetPreferences": null,
   "language": "python",
   "notebookMetadata": {
    "pythonIndentUnit": 4
   },
   "notebookName": "test_notebook",
   "widgets": {}
  },
  "language_info": {
   "name": "python"
  }
 },
 "nbformat": 4,
 "nbformat_minor": 0
}
